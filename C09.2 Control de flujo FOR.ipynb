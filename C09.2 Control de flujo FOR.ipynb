{
 "cells": [
  {
   "cell_type": "markdown",
   "metadata": {},
   "source": [
    "<img src=\"logo.png\">"
   ]
  },
  {
   "cell_type": "markdown",
   "metadata": {},
   "source": [
    "# Control de flujo FOR\n",
    "\n",
    "En **R** contamos con la función ``for( )`` para realizar una bloque de código tantas veces como se indique en su argumento. Los objetos de tipo iterable (es decir, que se pueden recorrer) son los vectores y las listas. Como regla general, un ``for() `` se aplica cuando sabes cuántas veces quieres que se ejecute una instrucción. \n",
    "\n",
    "La sintaxis es la siguiente:\n",
    "\n",
    "```r\n",
    "<flujo principal>\n",
    "for(i in objeto iterable){\n",
    "    bloque de código\n",
    "    bloque de código\n",
    "    ...\n",
    "}\n",
    "<flujo principal>\n",
    "```"
   ]
  },
  {
   "cell_type": "code",
   "execution_count": null,
   "metadata": {},
   "outputs": [],
   "source": [
    "## Imprimir números del 1 al 10\n",
    "#Este bucle `for` itera del 1 al 10 y imprime cada número.\n",
    "\n",
    "for (i in 1:10) {\n",
    "  print(i)\n",
    "}\n"
   ]
  },
  {
   "cell_type": "code",
   "execution_count": null,
   "metadata": {},
   "outputs": [],
   "source": [
    "# Calcular cuadrados de los números del 1 al 5\n",
    "squares <- c()\n",
    "for (i in 1:5) {\n",
    "  squares[i] <- i^2\n",
    "}\n",
    "print(squares)\n"
   ]
  },
  {
   "cell_type": "code",
   "execution_count": null,
   "metadata": {},
   "outputs": [],
   "source": [
    "# Lista de nombres\n",
    "names <- c(\"Juan\", \"Ana\", \"María\", \"Pedro\", \"Luis\")\n",
    "\n",
    "# Saludar a cada persona en la lista\n",
    "for (name in names) {\n",
    "  message <- paste(\"Hola,\", name)\n",
    "  print(message)\n",
    "}\n"
   ]
  },
  {
   "cell_type": "code",
   "execution_count": null,
   "metadata": {},
   "outputs": [],
   "source": [
    "### Sumar los elementos de un vector\n",
    "\n",
    "# Vector de números\n",
    "numbers <- c(1, 2, 3, 4, 5)\n",
    "\n",
    "# Inicializar la suma\n",
    "total_sum <- 0\n",
    "\n",
    "# Sumar los elementos del vector\n",
    "for (num in numbers) {\n",
    "  total_sum <- total_sum + num\n",
    "}\n",
    "print(total_sum)\n"
   ]
  },
  {
   "cell_type": "code",
   "execution_count": null,
   "metadata": {},
   "outputs": [],
   "source": [
    "### Filtrar números pares\n",
    "\n",
    "# Vector de números\n",
    "numbers <- c(0,5,1,2,8,15,25,16,18)\n",
    "\n",
    "# Vector para almacenar los números pares\n",
    "even_numbers <- c()\n",
    "\n",
    "# Filtrar los números pares\n",
    "for (num in numbers) {\n",
    "  if (num %% 2 == 0) {\n",
    "    even_numbers <- c(even_numbers, num)\n",
    "  }\n",
    "}\n",
    "print(even_numbers)\n"
   ]
  },
  {
   "cell_type": "code",
   "execution_count": null,
   "metadata": {},
   "outputs": [],
   "source": [
    "# Crear la matriz identidad de 4x4\n",
    "# Tamaño de la matriz\n",
    "n <- 4\n",
    "\n",
    "# Crear una matriz de ceros\n",
    "identity_matrix <- matrix(0, n, n)\n",
    "\n",
    "# Llenar la diagonal principal con unos\n",
    "for (i in 1:n) {\n",
    "  identity_matrix[i, i] <- 1\n",
    "}\n",
    "print(identity_matrix)\n"
   ]
  },
  {
   "cell_type": "code",
   "execution_count": null,
   "metadata": {},
   "outputs": [],
   "source": [
    "### Convertir todo a mayúsculas\n",
    "\n",
    "# Lista de nombres\n",
    "names <- c(\"Juan\", \"Ana\", \"María\", \"Pedro\", \"Luis\")\n",
    "\n",
    "# Lista para almacenar los nombres en mayúsculas\n",
    "upper_names <- c()\n",
    "\n",
    "# Convertir los nombres a mayúsculas\n",
    "for (i in 1:length(names)) {\n",
    "  upper_names[i] <- toupper(names[i])\n",
    "}\n",
    "print(upper_names)\n"
   ]
  },
  {
   "cell_type": "code",
   "execution_count": null,
   "metadata": {},
   "outputs": [],
   "source": [
    "# Un entero positivo es primo si tiene exactamente 2 divisores positivos.\n",
    "# Hacer una función que reciba un entero positivo y diga cuáles son sus divisores y si es primo o no.\n",
    "\n",
    "es_primo  <- function(n){\n",
    "    divisores = c()\n",
    "    for(i in c(1:n)){\n",
    "        if(n%%i == 0){\n",
    "            divisores = c(divisores, i)\n",
    "        }\n",
    "    }\n",
    "    cantidad_divisores = length(divisores)\n",
    "    if(cantidad_divisores == 2){\n",
    "        primo = TRUE\n",
    "    } else{\n",
    "        primo = FALSE\n",
    "    }\n",
    "    return(list(divisores,primo))\n",
    "}\n"
   ]
  },
  {
   "cell_type": "code",
   "execution_count": null,
   "metadata": {},
   "outputs": [],
   "source": [
    "# Se define el factorial de n como 1 si n=0 y 1*2*3*...*n si n>=1.\n",
    "# Programar el factorial de n\n",
    "\n",
    "n = 1\n",
    "fact = 1\n",
    "if(n>0){\n",
    "    for(i in c(1:n)){\n",
    "        fact = fact * i\n",
    "    }\n",
    "}\n",
    "\n",
    "fact\n"
   ]
  },
  {
   "cell_type": "code",
   "execution_count": null,
   "metadata": {},
   "outputs": [],
   "source": [
    "# Una función que reciba un dataframe con columnas numéricas; calcule la suma de los elementos de cada columna y devuelva\n",
    "# el valor porcentual de cada dato respecto de la suma de la columna a la que pertenece. los nombres de las nuevas columnas\n",
    "# deben ser iguales a los de las antiguas con el sufijo \"relativo\"; el orden de aparición de las columnas debe ser intercalando\n",
    "# cada columna de valores con su columna relativa y dejar una columna vacía\n",
    "set.seed(2022)\n",
    "mi_data  <- data.frame(Absoluto_1 = sample(40:80,8,replace = FALSE),\n",
    "                      Absoluto_2 = sample(40:80,8,replace = FALSE),\n",
    "                      Absoluto_3 = sample(40:80,8,replace = FALSE),\n",
    "                      Absoluto_4 = sample(40:80,8,replace = FALSE))\n",
    "\n",
    "mi_data"
   ]
  },
  {
   "cell_type": "code",
   "execution_count": null,
   "metadata": {},
   "outputs": [],
   "source": [
    "nuevo_data  <- function(mi_data){\n",
    "    totals <- colSums(mi_data)\n",
    "    mi_data <- rbind(mi_data,totals)\n",
    "    n_col  <- ncol(mi_data)\n",
    "    for(i in 1:n_col){\n",
    "        mi_data[,i+n_col] = mi_data[,i]*100/mi_data[nrow(mi_data),i]\n",
    "    }\n",
    "    \n",
    "    colnames(mi_data)[(n_col+1):(2*n_col)] <- paste0(\"Relativo_\",c(1:n_col))\n",
    "    mis_columnas <- list()\n",
    "    \n",
    "    for(i in 1:n_col){\n",
    "        mis_columnas[[i]] <- cbind(mi_data[,c(i,n_col+i)],NA)        \n",
    "    }\n",
    "    resultado  <- do.call(cbind,mis_columnas)\n",
    "    return(resultado[,-ncol(resultado)])    \n",
    "}\n",
    "\n",
    "nuevo_data(mi_data)"
   ]
  }
 ],
 "metadata": {
  "kernelspec": {
   "display_name": "R",
   "language": "R",
   "name": "ir"
  },
  "language_info": {
   "codemirror_mode": "r",
   "file_extension": ".r",
   "mimetype": "text/x-r-source",
   "name": "R",
   "pygments_lexer": "r",
   "version": "3.6.1"
  }
 },
 "nbformat": 4,
 "nbformat_minor": 4
}
